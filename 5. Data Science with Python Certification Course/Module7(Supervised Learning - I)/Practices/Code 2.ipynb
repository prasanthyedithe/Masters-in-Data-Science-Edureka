{
 "cells": [
  {
   "cell_type": "code",
   "execution_count": 2,
   "metadata": {
    "collapsed": true
   },
   "outputs": [],
   "source": [
    "import pandas as pd # data processing, CSV file I/O (e.g. pd.read_csv), data manipulation as in SQL\n",
    "\n",
    "import matplotlib\n",
    "matplotlib.use(\"Agg\")\n",
    "%matplotlib inline\n",
    "# used for plot interactive graph. I like it most for plot"
   ]
  },
  {
   "cell_type": "code",
   "execution_count": 3,
   "metadata": {
    "collapsed": true
   },
   "outputs": [],
   "source": [
    "import seaborn as sns # this is used for the plot the graph\n",
    "from sklearn.model_selection import train_test_split # to split the data into two parts\n",
    "from sklearn import metrics # for the check the error and accuracy of the model\n",
    "from sklearn import tree"
   ]
  },
  {
   "cell_type": "code",
   "execution_count": 4,
   "metadata": {
    "collapsed": true
   },
   "outputs": [],
   "source": [
    "from sklearn.ensemble import RandomForestClassifier\n",
    "\n",
    "from sklearn.metrics import confusion_matrix\n",
    "\n",
    "from sklearn.metrics import accuracy_score\n",
    "# To import the svm classifier"
   ]
  },
  {
   "cell_type": "code",
   "execution_count": 5,
   "metadata": {},
   "outputs": [
    {
     "name": "stdout",
     "output_type": "stream",
     "text": [
      "         ID                 Name      Date  Time Event Status Latitude  \\\n",
      "0  EP011949              UNNAMED  19490611     0           TS    20.2N   \n",
      "1  EP011949              UNNAMED  19490611   600           TS    20.2N   \n",
      "2  EP011949              UNNAMED  19490611  1200           TS    20.2N   \n",
      "3  EP011949              UNNAMED  19490611  1800           TS    20.3N   \n",
      "4  EP011949              UNNAMED  19490612     0           TS    20.4N   \n",
      "5  EP011949              UNNAMED  19490612   600           TS    20.5N   \n",
      "\n",
      "  Longitude  Maximum Wind  Minimum Pressure      ...       Low Wind SW  \\\n",
      "0    106.3W            45              -999      ...              -999   \n",
      "1    106.4W            45              -999      ...              -999   \n",
      "2    106.7W            45              -999      ...              -999   \n",
      "3    107.7W            45              -999      ...              -999   \n",
      "4    108.6W            45              -999      ...              -999   \n",
      "5    109.4W            45              -999      ...              -999   \n",
      "\n",
      "   Low Wind NW  Moderate Wind NE  Moderate Wind SE  Moderate Wind SW  \\\n",
      "0         -999              -999              -999              -999   \n",
      "1         -999              -999              -999              -999   \n",
      "2         -999              -999              -999              -999   \n",
      "3         -999              -999              -999              -999   \n",
      "4         -999              -999              -999              -999   \n",
      "5         -999              -999              -999              -999   \n",
      "\n",
      "   Moderate Wind NW  High Wind NE  High Wind SE  High Wind SW  High Wind NW  \n",
      "0              -999          -999          -999          -999          -999  \n",
      "1              -999          -999          -999          -999          -999  \n",
      "2              -999          -999          -999          -999          -999  \n",
      "3              -999          -999          -999          -999          -999  \n",
      "4              -999          -999          -999          -999          -999  \n",
      "5              -999          -999          -999          -999          -999  \n",
      "\n",
      "[6 rows x 22 columns]\n"
     ]
    }
   ],
   "source": [
    "import random\n",
    "data = pd.read_csv('pacific.csv')\n",
    "print(data.head(6))"
   ]
  },
  {
   "cell_type": "code",
   "execution_count": 6,
   "metadata": {
    "collapsed": true
   },
   "outputs": [],
   "source": [
    "#print(data.info())\n",
    "\n",
    "#data['Status'] = data['Status'].map({'TS':1,'HU':0})\n",
    "\n",
    "#data.describe() # this will describe the all statistical function of our data"
   ]
  },
  {
   "cell_type": "code",
   "execution_count": 7,
   "metadata": {},
   "outputs": [
    {
     "name": "stdout",
     "output_type": "stream",
     "text": [
      "         ID                 Name      Date  Time Event  Status Latitude  \\\n",
      "0  EP011949              UNNAMED  19490611     0            11    20.2N   \n",
      "1  EP011949              UNNAMED  19490611   600            11    20.2N   \n",
      "2  EP011949              UNNAMED  19490611  1200            11    20.2N   \n",
      "3  EP011949              UNNAMED  19490611  1800            11    20.3N   \n",
      "4  EP011949              UNNAMED  19490612     0            11    20.4N   \n",
      "\n",
      "  Longitude  Maximum Wind  Minimum Pressure      ...       Low Wind SW  \\\n",
      "0    106.3W            45              -999      ...              -999   \n",
      "1    106.4W            45              -999      ...              -999   \n",
      "2    106.7W            45              -999      ...              -999   \n",
      "3    107.7W            45              -999      ...              -999   \n",
      "4    108.6W            45              -999      ...              -999   \n",
      "\n",
      "   Low Wind NW  Moderate Wind NE  Moderate Wind SE  Moderate Wind SW  \\\n",
      "0         -999              -999              -999              -999   \n",
      "1         -999              -999              -999              -999   \n",
      "2         -999              -999              -999              -999   \n",
      "3         -999              -999              -999              -999   \n",
      "4         -999              -999              -999              -999   \n",
      "\n",
      "   Moderate Wind NW  High Wind NE  High Wind SE  High Wind SW  High Wind NW  \n",
      "0              -999          -999          -999          -999          -999  \n",
      "1              -999          -999          -999          -999          -999  \n",
      "2              -999          -999          -999          -999          -999  \n",
      "3              -999          -999          -999          -999          -999  \n",
      "4              -999          -999          -999          -999          -999  \n",
      "\n",
      "[5 rows x 22 columns]\n"
     ]
    }
   ],
   "source": [
    "data.Status = pd.Categorical(data.Status)\n",
    "data['Status'] = data.Status.cat.codes\n",
    "print(data.head())"
   ]
  },
  {
   "cell_type": "code",
   "execution_count": 8,
   "metadata": {
    "collapsed": true
   },
   "outputs": [],
   "source": [
    "# lets get the frequency of different typhoons\n",
    "#sns.countplot(data['Status'],label=\"Count\")\n",
    "#plt.show()"
   ]
  },
  {
   "cell_type": "code",
   "execution_count": 9,
   "metadata": {},
   "outputs": [
    {
     "name": "stderr",
     "output_type": "stream",
     "text": [
      "C:\\Users\\atul\\Anaconda3\\lib\\site-packages\\ipykernel_launcher.py:3: SettingWithCopyWarning: \n",
      "A value is trying to be set on a copy of a slice from a DataFrame\n",
      "\n",
      "See the caveats in the documentation: http://pandas.pydata.org/pandas-docs/stable/indexing.html#indexing-view-versus-copy\n",
      "  This is separate from the ipykernel package so we can avoid doing imports until\n",
      "C:\\Users\\atul\\Anaconda3\\lib\\site-packages\\ipykernel_launcher.py:4: SettingWithCopyWarning: \n",
      "A value is trying to be set on a copy of a slice from a DataFrame\n",
      "\n",
      "See the caveats in the documentation: http://pandas.pydata.org/pandas-docs/stable/indexing.html#indexing-view-versus-copy\n",
      "  after removing the cwd from sys.path.\n",
      "C:\\Users\\atul\\Anaconda3\\lib\\site-packages\\ipykernel_launcher.py:5: SettingWithCopyWarning: \n",
      "A value is trying to be set on a copy of a slice from a DataFrame\n",
      "\n",
      "See the caveats in the documentation: http://pandas.pydata.org/pandas-docs/stable/indexing.html#indexing-view-versus-copy\n",
      "  \"\"\"\n",
      "C:\\Users\\atul\\Anaconda3\\lib\\site-packages\\ipykernel_launcher.py:6: SettingWithCopyWarning: \n",
      "A value is trying to be set on a copy of a slice from a DataFrame\n",
      "\n",
      "See the caveats in the documentation: http://pandas.pydata.org/pandas-docs/stable/indexing.html#indexing-view-versus-copy\n",
      "  \n",
      "C:\\Users\\atul\\Anaconda3\\lib\\site-packages\\ipykernel_launcher.py:7: SettingWithCopyWarning: \n",
      "A value is trying to be set on a copy of a slice from a DataFrame\n",
      "\n",
      "See the caveats in the documentation: http://pandas.pydata.org/pandas-docs/stable/indexing.html#indexing-view-versus-copy\n",
      "  import sys\n"
     ]
    },
    {
     "name": "stdout",
     "output_type": "stream",
     "text": [
      "['Maximum Wind', 'Minimum Pressure', 'Low Wind NE', 'Low Wind SE', 'Low Wind SW', 'Low Wind NW', 'Moderate Wind NE', 'Moderate Wind SE', 'Moderate Wind SW', 'Moderate Wind NW', 'High Wind NE', 'High Wind SE', 'High Wind SW', 'High Wind NW']\n"
     ]
    },
    {
     "name": "stderr",
     "output_type": "stream",
     "text": [
      "C:\\Users\\atul\\Anaconda3\\lib\\site-packages\\ipykernel_launcher.py:8: SettingWithCopyWarning: \n",
      "A value is trying to be set on a copy of a slice from a DataFrame\n",
      "\n",
      "See the caveats in the documentation: http://pandas.pydata.org/pandas-docs/stable/indexing.html#indexing-view-versus-copy\n",
      "  \n",
      "C:\\Users\\atul\\Anaconda3\\lib\\site-packages\\ipykernel_launcher.py:9: SettingWithCopyWarning: \n",
      "A value is trying to be set on a copy of a slice from a DataFrame\n",
      "\n",
      "See the caveats in the documentation: http://pandas.pydata.org/pandas-docs/stable/indexing.html#indexing-view-versus-copy\n",
      "  if __name__ == '__main__':\n",
      "C:\\Users\\atul\\Anaconda3\\lib\\site-packages\\ipykernel_launcher.py:10: SettingWithCopyWarning: \n",
      "A value is trying to be set on a copy of a slice from a DataFrame\n",
      "\n",
      "See the caveats in the documentation: http://pandas.pydata.org/pandas-docs/stable/indexing.html#indexing-view-versus-copy\n",
      "  # Remove the CWD from sys.path while we load stuff.\n"
     ]
    }
   ],
   "source": [
    "random.seed(2)\n",
    "pred_columns = data[:]\n",
    "pred_columns.drop(['Status'],axis=1,inplace=True)\n",
    "pred_columns.drop(['Event'],axis=1,inplace=True)\n",
    "pred_columns.drop(['Latitude'],axis=1,inplace=True)\n",
    "pred_columns.drop(['Longitude'],axis=1,inplace=True)\n",
    "pred_columns.drop(['ID'],axis=1,inplace=True)\n",
    "pred_columns.drop(['Name'],axis=1,inplace=True)\n",
    "pred_columns.drop(['Date'],axis=1,inplace=True)\n",
    "pred_columns.drop(['Time'],axis=1,inplace=True)\n",
    "prediction_var = pred_columns.columns\n",
    "print(list(prediction_var))"
   ]
  },
  {
   "cell_type": "code",
   "execution_count": 10,
   "metadata": {
    "collapsed": true
   },
   "outputs": [],
   "source": [
    "# now these are the variables which will use for prediction\n",
    "#now split our data into train and test"
   ]
  },
  {
   "cell_type": "code",
   "execution_count": 11,
   "metadata": {},
   "outputs": [
    {
     "name": "stdout",
     "output_type": "stream",
     "text": [
      "(18295, 22)\n",
      "(7842, 22)\n"
     ]
    }
   ],
   "source": [
    "train, test = train_test_split(data, test_size = 0.3)# in this our main data is splitted into train and test\n",
    "# we can check their dimension\n",
    "print(train.shape)\n",
    "print(test.shape)"
   ]
  },
  {
   "cell_type": "code",
   "execution_count": 12,
   "metadata": {},
   "outputs": [
    {
     "name": "stdout",
     "output_type": "stream",
     "text": [
      "['ID', 'Name', 'Date', 'Time', 'Event', 'Status', 'Latitude', 'Longitude', 'Maximum Wind', 'Minimum Pressure', 'Low Wind NE', 'Low Wind SE', 'Low Wind SW', 'Low Wind NW', 'Moderate Wind NE', 'Moderate Wind SE', 'Moderate Wind SW', 'Moderate Wind NW', 'High Wind NE', 'High Wind SE', 'High Wind SW', 'High Wind NW']\n"
     ]
    }
   ],
   "source": [
    "train_X = train[prediction_var]# taking the training data input\n",
    "train_y= train['Status']# This is output of our training data\n",
    "#print(list(data.columns))\n",
    "print(list(train.columns))"
   ]
  },
  {
   "cell_type": "code",
   "execution_count": 13,
   "metadata": {
    "collapsed": true
   },
   "outputs": [],
   "source": [
    "# same we have to do for test\n",
    "test_X= test[prediction_var] # taking test data inputs\n",
    "test_y =test['Status']   #output value of test dat"
   ]
  },
  {
   "cell_type": "code",
   "execution_count": 14,
   "metadata": {},
   "outputs": [
    {
     "name": "stdout",
     "output_type": "stream",
     "text": [
      "0.956643713338\n"
     ]
    }
   ],
   "source": [
    "#RandomForest classifier\n",
    "model=RandomForestClassifier(n_estimators=100)# a simple random forest model\n",
    "model.fit(train_X,train_y)# now fit our model for traiing data\n",
    "prediction=model.predict(test_X)# predict for the test data\n",
    "#prediction will contain the predicted value by our model predicted values of diagnosis column for test inputs\n",
    "print(metrics.accuracy_score(prediction,test_y)) # to check the accuracy\n",
    "# here we will use accuracy measurement between our predicted value and our test output values"
   ]
  },
  {
   "cell_type": "code",
   "execution_count": 15,
   "metadata": {},
   "outputs": [
    {
     "data": {
      "text/plain": [
       "DecisionTreeClassifier(class_weight=None, criterion='gini', max_depth=None,\n",
       "            max_features=None, max_leaf_nodes=None,\n",
       "            min_impurity_decrease=0.0, min_impurity_split=None,\n",
       "            min_samples_leaf=1, min_samples_split=2,\n",
       "            min_weight_fraction_leaf=0.0, presort=False, random_state=None,\n",
       "            splitter='best')"
      ]
     },
     "execution_count": 15,
     "metadata": {},
     "output_type": "execute_result"
    }
   ],
   "source": [
    "#Decision Tree\n",
    "model = tree.DecisionTreeClassifier()\n",
    "model.fit(train_X,train_y)# now fit our model for traiing data"
   ]
  },
  {
   "cell_type": "code",
   "execution_count": 16,
   "metadata": {
    "collapsed": true
   },
   "outputs": [],
   "source": [
    "prediction=model.predict(test_X)# predict for the test data\n",
    "# prediction will contain the predicted value by our model predicted values of diagnosis column for test inputs"
   ]
  },
  {
   "cell_type": "code",
   "execution_count": 17,
   "metadata": {},
   "outputs": [
    {
     "name": "stdout",
     "output_type": "stream",
     "text": [
      "         0\n",
      "Status    \n",
      "10      10\n",
      "3        3\n",
      "10      10\n",
      "11      11\n",
      "5        5\n",
      "3        3\n",
      "10      10\n",
      "11      11\n",
      "11      11\n",
      "11      11\n",
      "3        3\n",
      "3        3\n",
      "3        3\n",
      "3        3\n",
      "10      10\n",
      "10      10\n",
      "11      11\n",
      "10      10\n",
      "11      11\n",
      "11      11\n",
      "3        3\n",
      "10      10\n",
      "10      10\n",
      "10      10\n",
      "5       10\n",
      "3        3\n",
      "11      11\n",
      "10      10\n",
      "11      11\n",
      "10      10\n",
      "...     ..\n",
      "11      11\n",
      "3        3\n",
      "10      10\n",
      "11      11\n",
      "11      11\n",
      "10      10\n",
      "11      11\n",
      "11      11\n",
      "11      11\n",
      "0        5\n",
      "11      11\n",
      "11      11\n",
      "3        3\n",
      "10      10\n",
      "10      10\n",
      "10      10\n",
      "5        5\n",
      "3        3\n",
      "3        3\n",
      "5        5\n",
      "11      11\n",
      "10      10\n",
      "10      10\n",
      "11      11\n",
      "5        5\n",
      "3        3\n",
      "10      10\n",
      "11      11\n",
      "10      10\n",
      "3        3\n",
      "\n",
      "[7842 rows x 1 columns]\n"
     ]
    }
   ],
   "source": [
    "df=pd.DataFrame(prediction,test_y)\n",
    "print(df)"
   ]
  },
  {
   "cell_type": "code",
   "execution_count": 18,
   "metadata": {},
   "outputs": [
    {
     "name": "stdout",
     "output_type": "stream",
     "text": [
      "0.955751083907\n"
     ]
    }
   ],
   "source": [
    "print(metrics.accuracy_score(prediction,test_y)) # to check the accuracy\n",
    "# here we will use accuracy measurement between our predicted value and our test output values"
   ]
  }
 ],
 "metadata": {
  "kernelspec": {
   "display_name": "Python 3",
   "language": "python",
   "name": "python3"
  },
  "language_info": {
   "codemirror_mode": {
    "name": "ipython",
    "version": 3
   },
   "file_extension": ".py",
   "mimetype": "text/x-python",
   "name": "python",
   "nbconvert_exporter": "python",
   "pygments_lexer": "ipython3",
   "version": "3.6.2"
  }
 },
 "nbformat": 4,
 "nbformat_minor": 2
}
